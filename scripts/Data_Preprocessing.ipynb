{
 "cells": [
  {
   "cell_type": "markdown",
   "metadata": {
    "collapsed": true,
    "pycharm": {
     "name": "#%% md\n"
    }
   },
   "source": [
    "# Preprocess Image Data from Raw Data"
   ]
  },
  {
   "cell_type": "code",
   "execution_count": 2,
   "outputs": [],
   "source": [
    "import pandas as pd\n",
    "import time\n",
    "from math import sqrt, pow, floor\n",
    "from Scripts.KernelReg.KernelRegression import *\n",
    "from sklearn.preprocessing import StandardScaler, MinMaxScaler"
   ],
   "metadata": {
    "collapsed": false,
    "pycharm": {
     "name": "#%%\n"
    }
   }
  },
  {
   "cell_type": "markdown",
   "source": [
    "### Read the data"
   ],
   "metadata": {
    "collapsed": false,
    "pycharm": {
     "name": "#%% md\n"
    }
   }
  },
  {
   "cell_type": "code",
   "execution_count": 5,
   "outputs": [],
   "source": [
    "fd = pd.read_pickle(\"../Raw/fd.pkl\")"
   ],
   "metadata": {
    "collapsed": false,
    "pycharm": {
     "name": "#%%\n"
    }
   }
  },
  {
   "cell_type": "code",
   "execution_count": 6,
   "outputs": [
    {
     "name": "stdout",
     "output_type": "stream",
     "text": [
      "Mach min:  0.0 max:  0.6055165138445859\n",
      "Turb_Var_Chi min:  0.001868454135732041 max:  13207.48470087414\n",
      "Turb_Var_Omega min:  2.753034850436209e-09 max:  42714.921478879245\n",
      "Turb_Var_S min:  2.753034850436209e-09 max:  37897.135874986765\n",
      "Den_Grad_X min:  -12758.01543289031 max:  9518.125427962812\n",
      "Den_Grad_Y min:  -16815.03497503484 max:  13932.639725076951\n",
      "Vel_Grad_XX min:  -42714.921478879245 max:  1006.599410577314\n",
      "Vel_Grad_XY min:  -9520.534595526595 max:  12742.92357026478\n",
      "Vel_Grad_YX min:  -3814.9494511811267 max:  657.7961930513623\n",
      "Vel_Grad_YY min:  -4805.409451433434 max:  1050.8959221561079\n",
      "Pres_Grad_X min:  -4565.9310762351615 max:  238.6522048116658\n",
      "Pres_Grad_Y min:  -983.8827420516634 max:  1903.761364052603\n",
      "Heat_Flux min:  -2253.838004301427 max:  9603.70130055727\n",
      "Eddy_Viscosity min:  0.0 max:  0.0012092927100644\n"
     ]
    }
   ],
   "source": [
    "features = ['Mach', 'Turb_Var_Chi', 'Turb_Var_Omega',\n",
    "       'Turb_Var_S', 'Den_Grad_X', 'Den_Grad_Y',\n",
    "       'Vel_Grad_XX', 'Vel_Grad_XY', 'Vel_Grad_YX', 'Vel_Grad_YY',\n",
    "       'Pres_Grad_X', 'Pres_Grad_Y',\n",
    "       'Heat_Flux', 'Eddy_Viscosity']\n",
    "means = []\n",
    "for f in features:\n",
    "    print(f, 'min: ', min(fd[f]),'max: ', max(fd[f]))"
   ],
   "metadata": {
    "collapsed": false,
    "pycharm": {
     "name": "#%%\n"
    }
   }
  },
  {
   "cell_type": "code",
   "source": [
    "scaler = MinMaxScaler()\n",
    "fd[features] = scaler.fit_transform(fd[features])"
   ],
   "metadata": {
    "collapsed": false,
    "pycharm": {
     "name": "#%%\n"
    }
   },
   "execution_count": 7,
   "outputs": []
  },
  {
   "cell_type": "markdown",
   "source": [
    "### Make the Data Domain, D\n",
    "Domain Points: $ d \\times d$ <br>\n",
    "d = 0.02\n",
    "##### Identify coordinates to make pictures"
   ],
   "metadata": {
    "collapsed": false,
    "pycharm": {
     "name": "#%% md\n"
    }
   }
  },
  {
   "cell_type": "code",
   "execution_count": 8,
   "outputs": [],
   "source": [
    "d = 0.01\n",
    "# NACA0012 case\n",
    "x = np.arange(-0.25, 2, d)\n",
    "y = np.arange(-0.25, 0.25, d)\n",
    "xx, yy = np.meshgrid(x,y)\n",
    "coords = [(a1, b1,) for a, b in zip(xx, yy) for a1, b1, in zip(a, b) ]\n",
    "# NACA0021 case\n",
    "x2 = np.arange(-0.25, 3, d)\n",
    "y2 = np.arange(-0.25, 0.25, d)\n",
    "xx2, yy2 = np.meshgrid(x2,y2)\n",
    "coords2 = [(a1, b1,) for a, b in zip(xx2, yy2) for a1, b1, in zip(a, b) ]"
   ],
   "metadata": {
    "collapsed": false,
    "pycharm": {
     "name": "#%%\n"
    }
   }
  },
  {
   "cell_type": "markdown",
   "source": [
    "### Remove the airfoil"
   ],
   "metadata": {
    "collapsed": false,
    "pycharm": {
     "name": "#%% md\n"
    }
   }
  },
  {
   "cell_type": "code",
   "execution_count": 9,
   "outputs": [],
   "source": [
    "def n12(xc):\n",
    "    t1 = 0.298222773*sqrt(xc) - 0.127125232*xc - 0.357907906*pow(xc, 2) +\\\n",
    "         0.291984971*pow(xc, 3) - 0.105174606*pow(xc, 4)\n",
    "    return 0.594689181*t1\n",
    "\n",
    "def n21(xc):\n",
    "    return 1.05*(0.2969*sqrt(xc) - 0.1260*xc - 0.3516*pow(xc,2) + 0.2843*pow(xc,3) - 0.1015*pow(xc,4))\n",
    "\n",
    "\n",
    "coords_12 = [x for x in coords if (0.0 <= x[0] <= 1.0) and (abs(x[1] >= n12(x[0])))]\n",
    "coords_21 = [x for x in coords2 if (0.0 <= x[0] <= 1.0) and (abs(x[1] >= n21(x[0])))]"
   ],
   "metadata": {
    "collapsed": false,
    "pycharm": {
     "name": "#%%\n"
    }
   }
  },
  {
   "cell_type": "code",
   "execution_count": 9,
   "outputs": [],
   "source": [],
   "metadata": {
    "collapsed": false,
    "pycharm": {
     "name": "#%%\n"
    }
   }
  },
  {
   "cell_type": "code",
   "execution_count": 9,
   "outputs": [],
   "source": [],
   "metadata": {
    "collapsed": false,
    "pycharm": {
     "name": "#%%\n"
    }
   }
  },
  {
   "cell_type": "markdown",
   "source": [
    "### Make Pictures\n",
    "Parameters: <br>\n",
    "Size of resulting image: $ n \\times n $ <br>\n",
    "Data bounds for Kernel : $ r $   <br>\n",
    "picture width : $ w $ <br>\n",
    "n = 20 <br>\n",
    "r = 0.1 <br>\n",
    "w = 0.05 <br>\n",
    "<br>\n",
    "### Modus Operandii:\n",
    "Picture coordinates have the same relative locations with respect to the center. <br>"
   ],
   "metadata": {
    "collapsed": false,
    "pycharm": {
     "name": "#%% md\n"
    }
   }
  },
  {
   "cell_type": "code",
   "execution_count": 10,
   "outputs": [],
   "source": [
    "r = 0.02\n",
    "w = 0.015\n",
    "n = 20\n",
    "ker_dist = 1e-3\n",
    "\n",
    "aoa = [2, 4, 6, 10, 11, 12, 13, 16, 17, 18]\n",
    "aoa2 = [210, 216, 2116, 2120]"
   ],
   "metadata": {
    "collapsed": false,
    "pycharm": {
     "name": "#%%\n"
    }
   }
  },
  {
   "cell_type": "code",
   "execution_count": 10,
   "outputs": [],
   "source": [],
   "metadata": {
    "collapsed": false,
    "pycharm": {
     "name": "#%%\n"
    }
   }
  },
  {
   "cell_type": "code",
   "execution_count": 11,
   "outputs": [],
   "source": [
    "full_arr = []\n",
    "full_beta = []\n",
    "for i in (aoa + aoa2):\n",
    "    df_temp = fd.query('ilevel_1 == \"'+str(i)+'\"')\n",
    "    if i in aoa:\n",
    "        coo = coords_12\n",
    "        foil = n12\n",
    "    else:\n",
    "        coo = coords_21\n",
    "        foil = n21\n",
    "    for center in coo:\n",
    "        point_array = []\n",
    "        feature_array = []\n",
    "        ax = np.linspace(center[0] -w/2,center[0] + w/2, n)\n",
    "        ay = np.linspace(center[1] -w/2,center[1] + w/2, n)\n",
    "        axx, ayy = np.meshgrid(ax, ay)\n",
    "        abs_coords = [(a1, b1,) for a, b in zip(axx, ayy) for a1, b1, in zip(a, b)]\n",
    "        # Extract neighbors\n",
    "        nbs = pick_neighbors(df_temp, center[0], center[1], r)\n",
    "        dists = []\n",
    "        in_foil = []\n",
    "        for point in abs_coords:\n",
    "            dists.append(np.sqrt(np.square(nbs['x'].to_numpy() - point[0])\n",
    "                                     + np.square(nbs['y'].to_numpy() - point[1])))\n",
    "            # Check if the point is inside the airfoil\n",
    "            if (0. <= point[0] <= 1.) and (abs(point[1]) <= foil(point[0])):\n",
    "                in_foil.append(True)\n",
    "            else:\n",
    "                in_foil.append(False)\n",
    "        p = np.vstack(dists)\n",
    "        kernels = (1 / np.sqrt(2 * np.pi)) * np.exp(-p / ker_dist)\n",
    "        ker_sum = np.dot(kernels, np.ones(kernels.shape[1])) + 1e-8\n",
    "        for f in features:\n",
    "            try:\n",
    "                pred_arr = np.divide(np.dot(kernels, nbs[f].to_numpy()), ker_sum)\n",
    "            except ZeroDivisionError:\n",
    "                pred_arr = np.zeros(kernels.shape[0])\n",
    "            # Set airfoil points to zero\n",
    "            pred_arr = [x if not y else 0. for (x, y) in zip(pred_arr, in_foil)]\n",
    "            feature_array.append(pred_arr)\n",
    "        # Stack features\n",
    "        point_array = np.vstack(feature_array)\n",
    "        # Calculate the field parameter\n",
    "        nbs_x = nbs['x'].to_numpy()\n",
    "        nbs_y = nbs['y'].to_numpy()\n",
    "        dists_c = np.sqrt(np.square(nbs_x - center[0]) + np.square(nbs_y - center[1]))\n",
    "        kernels_c = (1 / np.sqrt(2 * np.pi)) * np.exp(-dists_c / ker_dist)\n",
    "        ker_sum_c = np.dot(kernels_c, np.ones(kernels_c.shape[0])) + 1e-8\n",
    "        try:\n",
    "            beta = np.divide(np.dot(kernels_c, nbs['Field_Parameter'].to_numpy()), ker_sum_c)\n",
    "        except ZeroDivisionError:\n",
    "            beta = 0.0\n",
    "        full_beta.append(beta)\n",
    "        full_arr.append(point_array)\n",
    "\n",
    "np.save('../Data/pics.npy', np.asarray(full_arr))\n",
    "np.save('../Data/pics_beta.npy', np.asarray(full_beta))"
   ],
   "metadata": {
    "collapsed": false,
    "pycharm": {
     "name": "#%%\n"
    }
   }
  },
  {
   "cell_type": "code",
   "execution_count": null,
   "outputs": [],
   "source": [
    "\n"
   ],
   "metadata": {
    "collapsed": false,
    "pycharm": {
     "name": "#%%\n"
    }
   }
  },
  {
   "cell_type": "markdown",
   "source": [
    "### Eye Norm"
   ],
   "metadata": {
    "collapsed": false,
    "pycharm": {
     "name": "#%% md\n"
    }
   }
  },
  {
   "cell_type": "code",
   "execution_count": 175,
   "outputs": [],
   "source": [
    "\n",
    "df = np.load('../Data/pics_11.npy', allow_pickle=True)"
   ],
   "metadata": {
    "collapsed": false,
    "pycharm": {
     "name": "#%%\n"
    }
   }
  },
  {
   "cell_type": "code",
   "execution_count": 176,
   "outputs": [
    {
     "data": {
      "text/plain": "<Figure size 1332x756 with 2 Axes>",
      "image/png": "[encoded data removed]"
     },
     "metadata": {},
     "output_type": "display_data"
    }
   ],
   "source": [
    "f = 2884\n",
    "j = floor(f/14)\n",
    "p = np.reshape(df[f],(20,20), order='F')\n",
    "xc = coords_12[j][0]\n",
    "yc = coords_12[j][1]\n",
    "gx = np.linspace(xc-0.025/2, xc + 0.025/2, num=20)\n",
    "gy = np.linspace( yc-0.025/2, yc +  0.025/2, num=20)\n",
    "xp, yp = np.meshgrid(gx, gy, sparse=False, indexing='ij')\n",
    "sp = gx[1] - gx[0]\n",
    "\n",
    "fig, ax = plt.subplots(1, 1)\n",
    "cp = ax.contourf(xp, yp, p.reshape(xp.shape), cmap=cm.jet)\n",
    "ax.set_rasterization_zorder(-10)\n",
    "fig.colorbar(cp)\n",
    "ax.set_title('Predicted Pic')\n",
    "ax.set_xlabel('x')\n",
    "ax.set_ylabel('y')\n",
    "fig.set_size_inches(18.5, 10.5)\n",
    "plt.show()\n",
    "\n",
    "\n",
    "image = sitk.GetImageFromArray(p.reshape(xp.shape), isVector=False)\n",
    "\n",
    "image.SetOrigin((coords_12[j][0],coords_12[j][1] , 0))\n",
    "image.SetSpacing((sp, sp, 1))\n",
    "#sitk.WriteImage(image, 'test.vtk')"
   ],
   "metadata": {
    "collapsed": false,
    "pycharm": {
     "name": "#%%\n"
    }
   }
  },
  {
   "cell_type": "code",
   "execution_count": 13,
   "outputs": [
    {
     "name": "stdout",
     "output_type": "stream",
     "text": [
      "1.050891804277209 20645\n"
     ]
    }
   ],
   "source": [
    "dfb2 = np.load('../Data/pics_beta.npy', allow_pickle=True)\n",
    "print(max(dfb2), np.argmax(dfb2))"
   ],
   "metadata": {
    "collapsed": false,
    "pycharm": {
     "name": "#%%\n"
    }
   }
  },
  {
   "cell_type": "code",
   "execution_count": 187,
   "outputs": [],
   "source": [],
   "metadata": {
    "collapsed": false,
    "pycharm": {
     "name": "#%%\n"
    }
   }
  },
  {
   "cell_type": "code",
   "execution_count": null,
   "outputs": [],
   "source": [
    "\n"
   ],
   "metadata": {
    "collapsed": false,
    "pycharm": {
     "name": "#%%\n"
    }
   }
  }
 ],
 "metadata": {
  "kernelspec": {
   "display_name": "Python 3",
   "language": "python",
   "name": "python3"
  },
  "language_info": {
   "codemirror_mode": {
    "name": "ipython",
    "version": 2
   },
   "file_extension": ".py",
   "mimetype": "text/x-python",
   "name": "python",
   "nbconvert_exporter": "python",
   "pygments_lexer": "ipython2",
   "version": "2.7.6"
  }
 },
 "nbformat": 4,
 "nbformat_minor": 0
}